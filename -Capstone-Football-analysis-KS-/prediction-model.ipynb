{
 "cells": [
  {
   "cell_type": "code",
   "execution_count": 1,
   "metadata": {},
   "outputs": [],
   "source": [
    "from keras.models import Sequential\n",
    "from keras.layers import LSTM, Dense, Dropout\n",
    "\n",
    "import pandas as pd\n",
    "import numpy as np\n",
    "import matplotlib.pyplot as plt\n",
    "import seaborn as sns"
   ]
  },
  {
   "cell_type": "code",
   "execution_count": 2,
   "metadata": {},
   "outputs": [
    {
     "data": {
      "text/html": [
       "<div>\n",
       "<style scoped>\n",
       "    .dataframe tbody tr th:only-of-type {\n",
       "        vertical-align: middle;\n",
       "    }\n",
       "\n",
       "    .dataframe tbody tr th {\n",
       "        vertical-align: top;\n",
       "    }\n",
       "\n",
       "    .dataframe thead th {\n",
       "        text-align: right;\n",
       "    }\n",
       "</style>\n",
       "<table border=\"1\" class=\"dataframe\">\n",
       "  <thead>\n",
       "    <tr style=\"text-align: right;\">\n",
       "      <th></th>\n",
       "      <th>date</th>\n",
       "      <th>home_team</th>\n",
       "      <th>away_team</th>\n",
       "      <th>home_score</th>\n",
       "      <th>away_score</th>\n",
       "      <th>tournament</th>\n",
       "      <th>city</th>\n",
       "      <th>country</th>\n",
       "      <th>neutral</th>\n",
       "      <th>ID</th>\n",
       "    </tr>\n",
       "  </thead>\n",
       "  <tbody>\n",
       "    <tr>\n",
       "      <th>0</th>\n",
       "      <td>1916-07-02</td>\n",
       "      <td>Chile</td>\n",
       "      <td>Uruguay</td>\n",
       "      <td>0</td>\n",
       "      <td>4</td>\n",
       "      <td>Copa América</td>\n",
       "      <td>Buenos Aires</td>\n",
       "      <td>Argentina</td>\n",
       "      <td>True</td>\n",
       "      <td>1916-07-02-Chile-Uruguay</td>\n",
       "    </tr>\n",
       "    <tr>\n",
       "      <th>1</th>\n",
       "      <td>1916-07-06</td>\n",
       "      <td>Argentina</td>\n",
       "      <td>Chile</td>\n",
       "      <td>6</td>\n",
       "      <td>1</td>\n",
       "      <td>Copa América</td>\n",
       "      <td>Buenos Aires</td>\n",
       "      <td>Argentina</td>\n",
       "      <td>False</td>\n",
       "      <td>1916-07-06-Argentina-Chile</td>\n",
       "    </tr>\n",
       "  </tbody>\n",
       "</table>\n",
       "</div>"
      ],
      "text/plain": [
       "         date  home_team away_team  home_score  away_score    tournament  \\\n",
       "0  1916-07-02      Chile   Uruguay           0           4  Copa América   \n",
       "1  1916-07-06  Argentina     Chile           6           1  Copa América   \n",
       "\n",
       "           city    country  neutral                          ID  \n",
       "0  Buenos Aires  Argentina     True    1916-07-02-Chile-Uruguay  \n",
       "1  Buenos Aires  Argentina    False  1916-07-06-Argentina-Chile  "
      ]
     },
     "execution_count": 2,
     "metadata": {},
     "output_type": "execute_result"
    }
   ],
   "source": [
    "df = pd.read_csv('./Data/composed-data/id_results.csv').drop('Unnamed: 0', axis=1)\n",
    "df.head(2)"
   ]
  },
  {
   "cell_type": "code",
   "execution_count": 3,
   "metadata": {},
   "outputs": [],
   "source": [
    "import tensorflow as tf\n",
    "import keras\n",
    "from keras.preprocessing.text import Tokenizer"
   ]
  },
  {
   "cell_type": "code",
   "execution_count": 4,
   "metadata": {},
   "outputs": [],
   "source": [
    "sentences = [\n",
    "    'I love my dog',\n",
    "    'I love my cat'\n",
    "]"
   ]
  },
  {
   "cell_type": "code",
   "execution_count": 5,
   "metadata": {},
   "outputs": [
    {
     "name": "stdout",
     "output_type": "stream",
     "text": [
      "{'i': 1, 'love': 2, 'my': 3, 'dog': 4, 'cat': 5}\n"
     ]
    }
   ],
   "source": [
    "tokenizer = Tokenizer()\n",
    "tokenizer.fit_on_texts(sentences)\n",
    "print(tokenizer.word_index)"
   ]
  },
  {
   "cell_type": "code",
   "execution_count": 6,
   "metadata": {},
   "outputs": [],
   "source": [
    "def replace_spaces(entry):\n",
    "    return entry.replace(' ', '-')\n",
    "lst_home_team = list(df.home_team.apply(replace_spaces))\n",
    "lst_away_team = list(df.away_team.apply(replace_spaces))\n",
    "lst_tournaments = list(df.tournament.apply(replace_spaces))\n",
    "lst_country = list(df.country.apply(replace_spaces))"
   ]
  },
  {
   "cell_type": "code",
   "execution_count": 7,
   "metadata": {},
   "outputs": [],
   "source": [
    "sentence_lst = []\n",
    "i = 0\n",
    "for i in range(len(lst_home_team)):\n",
    "    sentence_lst.append(f'{lst_home_team[i]} {lst_away_team[i]} {lst_tournaments[i]} {lst_country[i]}')\n"
   ]
  },
  {
   "cell_type": "code",
   "execution_count": 8,
   "metadata": {},
   "outputs": [
    {
     "name": "stdout",
     "output_type": "stream",
     "text": [
      "{'cup': 1, 'qualification': 2, 'world': 3, 'fifa': 4, 'uefa': 5, 'euro': 6, 'united': 7, 'of': 8, 'states': 9, 'nations': 10, 'copa': 11, 'américa': 12, 'ireland': 13, 'african': 14, 'brazil': 15, 'republic': 16, 'south': 17, 'argentina': 18, 'and': 19, 'uruguay': 20, 'france': 21, 'germany': 22, 'chile': 23, 'italy': 24, 'mexico': 25, 'spain': 26, 'korea': 27, 'peru': 28, 'england': 29, 'sweden': 30, 'netherlands': 31, 'portugal': 32, 'russia': 33, 'paraguay': 34, 'belgium': 35, 'islands': 36, 'switzerland': 37, 'ecuador': 38, 'hungary': 39, 'colombia': 40, 'denmark': 41, 'qatar': 42, 'romania': 43, 'bolivia': 44, 'austria': 45, 'bulgaria': 46, 'scotland': 47, 'turkey': 48, 'poland': 49, 'greece': 50, 'gold': 51, 'norway': 52, 'egypt': 53, 'cyprus': 54, 'australia': 55, 'luxembourg': 56, 'finland': 57, 'northern': 58, 'guinea': 59, 'wales': 60, 'afc': 61, 'asian': 62, 'japan': 63, 'iran': 64, 'new': 65, 'north': 66, 'arab': 67, 'cameroon': 68, 'iceland': 69, 'africa': 70, 'malta': 71, 'venezuela': 72, 'costa': 73, 'rica': 74, 'emirates': 75, 'dr': 76, 'saudi': 77, 'arabia': 78, 'ghana': 79, 'albania': 80, 'nigeria': 81, 'israel': 82, 'congo': 83, 'tunisia': 84, 'morocco': 85, 'china': 86, 'pr': 87, 'honduras': 88, 'croatia': 89, 'ivory': 90, 'coast': 91, 'czech': 92, 'zambia': 93, 'algeria': 94, 'latvia': 95, 'faroe': 96, 'yugoslavia': 97, 'jamaica': 98, 'ukraine': 99, 'san': 100, 'marino': 101, 'slovenia': 102, 'estonia': 103, 'el': 104, 'salvador': 105, 'slovakia': 106, 'kuwait': 107, 'czechoslovakia': 108, 'zealand': 109, 'lithuania': 110, 'thailand': 111, 'macedonia': 112, 'senegal': 113, 'canada': 114, 'liechtenstein': 115, 'trinidad': 116, 'tobago': 117, 'moldova': 118, 'armenia': 119, 'georgia': 120, 'bosnia': 121, 'herzegovina': 122, 'azerbaijan': 123, 'serbia': 124, 'panama': 125, 'saint': 126, 'belarus': 127, 'iraq': 128, 'uzbekistan': 129, 'andorra': 130, 'burkina': 131, 'faso': 132, 'singapore': 133, 'gabon': 134, 'kazakhstan': 135, 'syria': 136, 'guatemala': 137, 'mali': 138, 'angola': 139, 'sudan': 140, 'bahrain': 141, 'ethiopia': 142, 'hong': 143, 'kong': 144, 'jordan': 145, 'oman': 146, 'german': 147, 'lebanon': 148, 'confederations': 149, 'kenya': 150, 'togo': 151, 'haiti': 152, 'indonesia': 153, 'malaysia': 154, 'oceania': 155, 'zimbabwe': 156, 'malawi': 157, 'uganda': 158, 'libya': 159, 'cuba': 160, 'equatorial': 161, 'vietnam': 162, 'solomon': 163, 'montenegro': 164, 'benin': 165, 'namibia': 166, 'vincent': 167, 'the': 168, 'grenadines': 169, 'india': 170, 'liberia': 171, 'taiwan': 172, 'friendly': 173, 'mozambique': 174, 'sierra': 175, 'leone': 176, 'fiji': 177, 'bangladesh': 178, 'tanzania': 179, 'yemen': 180, 'rwanda': 181, 'turkmenistan': 182, 'suriname': 183, 'madagascar': 184, 'tahiti': 185, 'tajikistan': 186, 'caledonia': 187, 'botswana': 188, 'cape': 189, 'verde': 190, 'cambodia': 191, 'curaçao': 192, 'cosafa': 193, 'niger': 194, 'dominican': 195, 'antigua': 196, 'barbuda': 197, 'bermuda': 198, 'vanuatu': 199, 'kitts': 200, 'nevis': 201, 'maldives': 202, 'kyrgyzstan': 203, 'papua': 204, 'barbados': 205, 'soviet': 206, 'union': 207, 'sri': 208, 'lanka': 209, 'grenada': 210, 'samoa': 211, 'gambia': 212, 'virgin': 213, 'gibraltar': 214, 'nicaragua': 215, 'macau': 216, 'lesotho': 217, 'palestine': 218, 'guyana': 219, 'nepal': 220, 'mauritania': 221, 'eswatini': 222, 'philippines': 223, 'mauritius': 224, 'belize': 225, 'laos': 226, 'pakistan': 227, 'puerto': 228, 'rico': 229, 'kosovo': 230, 'bissau': 231, 'burundi': 232, 'lucia': 233, 'myanmar': 234, 'british': 235, 'tournament': 236, 'chad': 237, 'dominica': 238, 'martinique': 239, 'djibouti': 240, 'mongolia': 241, 'aruba': 242, 'tonga': 243, 'cayman': 244, 'bahamas': 245, 'seychelles': 246, 'guam': 247, 'conifa': 248, 'football': 249, 'brunei': 250, 'french': 251, 'afghanistan': 252, 'central': 253, 'cook': 254, 'championship': 255, 'guadeloupe': 256, 'bhutan': 257, 'polynesia': 258, 'turks': 259, 'caicos': 260, 'zaïre': 261, 'anguilla': 262, 'montserrat': 263, 'são': 264, 'tomé': 265, 'príncipe': 266, 'comoros': 267, \"king's\": 268, 'somalia': 269, 'american': 270, 'cecafa': 271, 'amílcar': 272, 'cabral': 273, 'home': 274, 'international': 275, 'eritrea': 276, 'timor': 277, 'leste': 278, 'antilles': 279, 'games': 280, 'merdeka': 281, 'udeac': 282, 'cfu': 283, 'caribbean': 284, 'european': 285, 'lunar': 286, 'year': 287, 'island': 288, 'abkhazia': 289, 'iraqi': 290, 'kurdistan': 291, 'padania': 292, 'dpr': 293, 'king': 294, 'hassan': 295, 'ii': 296, 'guiana': 297, 'baltic': 298, 'league': 299, 'saarland': 300, 'ar': 301, 'zanzibar': 302, 'dakar': 303, 'saff': 304, 'ellan': 305, 'vannin': 306, 'nafc': 307, 'gulf': 308, 'west': 309, 'conmebol–uefa': 310, 'champions': 311, 'dynasty': 312, 'pacific': 313, 'isle': 314, 'man': 315, 'waff': 316, 'koreans': 317, 'in': 318, 'western': 319, 'irish': 320, 'free': 321, 'state': 322, 'upper': 323, 'volta': 324, '75th': 325, 'anniversary': 326, 'friendship': 327, 'paz': 328, 'del': 329, 'chaco': 330, 'uncaf': 331, 'ynys': 332, 'môn': 333, 'jersey': 334, 'prime': 335, \"minister's\": 336, 'menorca': 337, 'ossetia': 338, 'kirin': 339, 'panjab': 340, 'kárpátalja': 341, 'chameria': 342, 'concacaf': 343, 'dahomey': 344, 'kuneitra': 345, 'real': 346, 'madrid': 347, 'beijing': 348, 'félix': 349, 'bogado': 350, 'merlion': 351, 'great': 352, 'wall': 353, 'matthews': 354, 'nehru': 355, 'aff': 356, 'sint': 357, 'maarten': 358, 'ancient': 359, 'civilizations': 360, 'guernsey': 361, 'tifoco': 362, 'fifi': 363, 'wild': 364, 'provence': 365, 'sápmi': 366, 'viva': 367, 'confraternidad': 368, 'superclásico': 369, 'de': 370, 'las': 371, 'américas': 372, 'occitania': 373, 'county': 374, 'nice': 375, 'abcs': 376, 'felvidék': 377, 'åland': 378, 'east': 379, 'corsica': 380, 'basque': 381, 'country': 382, 'chagos': 383, 'raetia': 384, 'hitra': 385, 'isles': 386, 'greenland': 387, 'matabeleland': 388, 'kabylia': 389, 'tibet': 390, 'cascadia': 391, 'székely': 392, 'land': 393, 'mahinda': 394, 'rajapaksa': 395, 'navruz': 396}\n"
     ]
    }
   ],
   "source": [
    "tokenizer = Tokenizer()\n",
    "tokenizer.fit_on_texts(sentence_lst)\n",
    "print(tokenizer.word_index)"
   ]
  }
 ],
 "metadata": {
  "kernelspec": {
   "display_name": "Python 3",
   "language": "python",
   "name": "python3"
  },
  "language_info": {
   "codemirror_mode": {
    "name": "ipython",
    "version": 3
   },
   "file_extension": ".py",
   "mimetype": "text/x-python",
   "name": "python",
   "nbconvert_exporter": "python",
   "pygments_lexer": "ipython3",
   "version": "3.11.3"
  },
  "orig_nbformat": 4
 },
 "nbformat": 4,
 "nbformat_minor": 2
}
