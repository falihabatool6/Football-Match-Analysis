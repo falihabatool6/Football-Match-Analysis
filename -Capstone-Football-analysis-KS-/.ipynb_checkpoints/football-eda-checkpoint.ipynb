{
 "cells": [
  {
   "cell_type": "code",
   "execution_count": 2,
   "metadata": {},
   "outputs": [],
   "source": [
    "# Data manipulation libraries\n",
    "import pandas as pd\n",
    "import numpy as np\n",
    "\n",
    "# Data visualization libraries\n",
    "from matplotlib import pyplot as plt\n",
    "import seaborn as sns"
   ]
  },
  {
   "cell_type": "code",
   "execution_count": 3,
   "metadata": {},
   "outputs": [
    {
     "name": "stdout",
     "output_type": "stream",
     "text": [
      "44762\n"
     ]
    }
   ],
   "source": [
    "goal_scorer_df = pd.read_csv('./Data/goalscorers.csv')\n",
    "results_df = pd.read_csv('./Data/results.csv')\n",
    "shootouts_df = pd.read_csv('./Data/shootouts.csv')\n",
    "\n",
    "print(results_df.shape[0])"
   ]
  },
  {
   "cell_type": "code",
   "execution_count": 4,
   "metadata": {},
   "outputs": [
    {
     "data": {
      "text/html": [
       "<div>\n",
       "<style scoped>\n",
       "    .dataframe tbody tr th:only-of-type {\n",
       "        vertical-align: middle;\n",
       "    }\n",
       "\n",
       "    .dataframe tbody tr th {\n",
       "        vertical-align: top;\n",
       "    }\n",
       "\n",
       "    .dataframe thead th {\n",
       "        text-align: right;\n",
       "    }\n",
       "</style>\n",
       "<table border=\"1\" class=\"dataframe\">\n",
       "  <thead>\n",
       "    <tr style=\"text-align: right;\">\n",
       "      <th></th>\n",
       "      <th>date</th>\n",
       "      <th>home_team</th>\n",
       "      <th>away_team</th>\n",
       "      <th>team</th>\n",
       "      <th>scorer</th>\n",
       "      <th>minute</th>\n",
       "      <th>own_goal</th>\n",
       "      <th>penalty</th>\n",
       "    </tr>\n",
       "  </thead>\n",
       "  <tbody>\n",
       "    <tr>\n",
       "      <th>0</th>\n",
       "      <td>1916-07-02</td>\n",
       "      <td>Chile</td>\n",
       "      <td>Uruguay</td>\n",
       "      <td>Uruguay</td>\n",
       "      <td>José Piendibene</td>\n",
       "      <td>44.0</td>\n",
       "      <td>False</td>\n",
       "      <td>False</td>\n",
       "    </tr>\n",
       "    <tr>\n",
       "      <th>1</th>\n",
       "      <td>1916-07-02</td>\n",
       "      <td>Chile</td>\n",
       "      <td>Uruguay</td>\n",
       "      <td>Uruguay</td>\n",
       "      <td>Isabelino Gradín</td>\n",
       "      <td>55.0</td>\n",
       "      <td>False</td>\n",
       "      <td>False</td>\n",
       "    </tr>\n",
       "  </tbody>\n",
       "</table>\n",
       "</div>"
      ],
      "text/plain": [
       "         date home_team away_team     team            scorer  minute  \\\n",
       "0  1916-07-02     Chile   Uruguay  Uruguay   José Piendibene    44.0   \n",
       "1  1916-07-02     Chile   Uruguay  Uruguay  Isabelino Gradín    55.0   \n",
       "\n",
       "   own_goal  penalty  \n",
       "0     False    False  \n",
       "1     False    False  "
      ]
     },
     "execution_count": 4,
     "metadata": {},
     "output_type": "execute_result"
    }
   ],
   "source": [
    "goal_scorer_df.head(2)"
   ]
  },
  {
   "cell_type": "code",
   "execution_count": 5,
   "metadata": {},
   "outputs": [
    {
     "data": {
      "text/html": [
       "<div>\n",
       "<style scoped>\n",
       "    .dataframe tbody tr th:only-of-type {\n",
       "        vertical-align: middle;\n",
       "    }\n",
       "\n",
       "    .dataframe tbody tr th {\n",
       "        vertical-align: top;\n",
       "    }\n",
       "\n",
       "    .dataframe thead th {\n",
       "        text-align: right;\n",
       "    }\n",
       "</style>\n",
       "<table border=\"1\" class=\"dataframe\">\n",
       "  <thead>\n",
       "    <tr style=\"text-align: right;\">\n",
       "      <th></th>\n",
       "      <th>date</th>\n",
       "      <th>home_team</th>\n",
       "      <th>away_team</th>\n",
       "      <th>home_score</th>\n",
       "      <th>away_score</th>\n",
       "      <th>tournament</th>\n",
       "      <th>city</th>\n",
       "      <th>country</th>\n",
       "      <th>neutral</th>\n",
       "    </tr>\n",
       "  </thead>\n",
       "  <tbody>\n",
       "    <tr>\n",
       "      <th>0</th>\n",
       "      <td>1872-11-30</td>\n",
       "      <td>Scotland</td>\n",
       "      <td>England</td>\n",
       "      <td>0</td>\n",
       "      <td>0</td>\n",
       "      <td>Friendly</td>\n",
       "      <td>Glasgow</td>\n",
       "      <td>Scotland</td>\n",
       "      <td>False</td>\n",
       "    </tr>\n",
       "    <tr>\n",
       "      <th>1</th>\n",
       "      <td>1873-03-08</td>\n",
       "      <td>England</td>\n",
       "      <td>Scotland</td>\n",
       "      <td>4</td>\n",
       "      <td>2</td>\n",
       "      <td>Friendly</td>\n",
       "      <td>London</td>\n",
       "      <td>England</td>\n",
       "      <td>False</td>\n",
       "    </tr>\n",
       "  </tbody>\n",
       "</table>\n",
       "</div>"
      ],
      "text/plain": [
       "         date home_team away_team  home_score  away_score tournament     city  \\\n",
       "0  1872-11-30  Scotland   England           0           0   Friendly  Glasgow   \n",
       "1  1873-03-08   England  Scotland           4           2   Friendly   London   \n",
       "\n",
       "    country  neutral  \n",
       "0  Scotland    False  \n",
       "1   England    False  "
      ]
     },
     "execution_count": 5,
     "metadata": {},
     "output_type": "execute_result"
    }
   ],
   "source": [
    "results_df.head(2)"
   ]
  },
  {
   "cell_type": "code",
   "execution_count": 6,
   "metadata": {},
   "outputs": [
    {
     "data": {
      "text/html": [
       "<div>\n",
       "<style scoped>\n",
       "    .dataframe tbody tr th:only-of-type {\n",
       "        vertical-align: middle;\n",
       "    }\n",
       "\n",
       "    .dataframe tbody tr th {\n",
       "        vertical-align: top;\n",
       "    }\n",
       "\n",
       "    .dataframe thead th {\n",
       "        text-align: right;\n",
       "    }\n",
       "</style>\n",
       "<table border=\"1\" class=\"dataframe\">\n",
       "  <thead>\n",
       "    <tr style=\"text-align: right;\">\n",
       "      <th></th>\n",
       "      <th>date</th>\n",
       "      <th>home_team</th>\n",
       "      <th>away_team</th>\n",
       "      <th>winner</th>\n",
       "    </tr>\n",
       "  </thead>\n",
       "  <tbody>\n",
       "    <tr>\n",
       "      <th>0</th>\n",
       "      <td>1967-08-22</td>\n",
       "      <td>India</td>\n",
       "      <td>Taiwan</td>\n",
       "      <td>Taiwan</td>\n",
       "    </tr>\n",
       "    <tr>\n",
       "      <th>1</th>\n",
       "      <td>1971-11-14</td>\n",
       "      <td>South Korea</td>\n",
       "      <td>Vietnam Republic</td>\n",
       "      <td>South Korea</td>\n",
       "    </tr>\n",
       "  </tbody>\n",
       "</table>\n",
       "</div>"
      ],
      "text/plain": [
       "         date    home_team         away_team       winner\n",
       "0  1967-08-22        India            Taiwan       Taiwan\n",
       "1  1971-11-14  South Korea  Vietnam Republic  South Korea"
      ]
     },
     "execution_count": 6,
     "metadata": {},
     "output_type": "execute_result"
    }
   ],
   "source": [
    "shootouts_df.head(2)"
   ]
  },
  {
   "cell_type": "code",
   "execution_count": 7,
   "metadata": {},
   "outputs": [
    {
     "name": "stdout",
     "output_type": "stream",
     "text": [
      "Total teams in the dataset :  220\n"
     ]
    }
   ],
   "source": [
    "total_teams = goal_scorer_df.home_team.unique()\n",
    "print('Total teams in the dataset : ', len(total_teams))"
   ]
  },
  {
   "cell_type": "code",
   "execution_count": 8,
   "metadata": {},
   "outputs": [
    {
     "name": "stdout",
     "output_type": "stream",
     "text": [
      "Goal scorer records:\t 41113\n",
      "Results records:\t 44762\n",
      "Shootout records:\t 556\n"
     ]
    }
   ],
   "source": [
    "print('Goal scorer records:\\t',goal_scorer_df.shape[0])\n",
    "print('Results records:\\t', results_df.shape[0])\n",
    "print('Shootout records:\\t', shootouts_df.shape[0])"
   ]
  },
  {
   "cell_type": "markdown",
   "metadata": {},
   "source": [
    "# Match Number analysis"
   ]
  },
  {
   "cell_type": "code",
   "execution_count": 9,
   "metadata": {},
   "outputs": [],
   "source": [
    "def make_id(df:pd.DataFrame):\n",
    "    df['ID'] = df.date+ '-' + df.home_team+ '-' + df.away_team\n",
    "    return df\n",
    "id_goal_scorer_df = make_id(goal_scorer_df)\n",
    "id_results_df = make_id(results_df)\n",
    "id_shootouts_df = make_id(shootouts_df)"
   ]
  },
  {
   "cell_type": "markdown",
   "metadata": {},
   "source": [
    "### **Q** : Are there any null valeus in data?"
   ]
  },
  {
   "cell_type": "markdown",
   "metadata": {},
   "source": [
    "**Ans** : *Total null values found are 307 ;*\n",
    "- **results.csv** : No null values (By running block: 1.0).\n",
    "- **goalscorer.csv** :      Null values found (By running block: 1.1)\n",
    "    - scorer column has 49 null values\n",
    "    - minute has 258 null values.\n",
    "- **shootout.csv** :        No null values (By running block: 1.2)"
   ]
  },
  {
   "cell_type": "code",
   "execution_count": 10,
   "metadata": {},
   "outputs": [
    {
     "data": {
      "text/plain": [
       "date          0\n",
       "home_team     0\n",
       "away_team     0\n",
       "home_score    0\n",
       "away_score    0\n",
       "tournament    0\n",
       "city          0\n",
       "country       0\n",
       "neutral       0\n",
       "ID            0\n",
       "dtype: int64"
      ]
     },
     "execution_count": 10,
     "metadata": {},
     "output_type": "execute_result"
    }
   ],
   "source": [
    "# block : 1.0\n",
    "results_df.isnull().sum()"
   ]
  },
  {
   "cell_type": "code",
   "execution_count": 11,
   "metadata": {},
   "outputs": [
    {
     "data": {
      "text/plain": [
       "date           0\n",
       "home_team      0\n",
       "away_team      0\n",
       "team           0\n",
       "scorer        49\n",
       "minute       258\n",
       "own_goal       0\n",
       "penalty        0\n",
       "ID             0\n",
       "dtype: int64"
      ]
     },
     "execution_count": 11,
     "metadata": {},
     "output_type": "execute_result"
    }
   ],
   "source": [
    "# block : 1.1\n",
    "id_goal_scorer_df.isnull().sum()"
   ]
  },
  {
   "cell_type": "code",
   "execution_count": 12,
   "metadata": {},
   "outputs": [
    {
     "data": {
      "text/plain": [
       "date         0\n",
       "home_team    0\n",
       "away_team    0\n",
       "winner       0\n",
       "ID           0\n",
       "dtype: int64"
      ]
     },
     "execution_count": 12,
     "metadata": {},
     "output_type": "execute_result"
    }
   ],
   "source": [
    "# block : 1.2\n",
    "id_shootouts_df.isnull().sum()"
   ]
  },
  {
   "cell_type": "markdown",
   "metadata": {},
   "source": [
    "### **Q** : Does *goalscorer* and *shootout* tables contain entries for every match in *results* table?"
   ]
  },
  {
   "cell_type": "markdown",
   "metadata": {},
   "source": [
    "*Total matches data present in results table : 44762*\n",
    "\n",
    "**A** : From the block below following conclusions have been extracted:\n",
    "- Goalscorer table contains all the entreis against entries in results table.\n",
    "    - Total rows Entries in goal scorer :\t\t\t41113\n",
    "    - Matches data present in goalscorer for data in results:\t41113\n",
    "- Shootouts table has 1 row that has not been recorded in results table and all other 555 entries have data against them in results table.\n",
    "    - Total rows Entries in goal scorer :\t\t\t556\n",
    "    - Matches data present in shootouts for data in results :\t555"
   ]
  },
  {
   "cell_type": "code",
   "execution_count": 13,
   "metadata": {},
   "outputs": [
    {
     "name": "stdout",
     "output_type": "stream",
     "text": [
      "Total matches data present in results :\t\t\t44762\n",
      "----\n",
      "Total rows Entries in goal scorer :\t\t\t41113\n",
      "Matches data present in goalscorer for data in results:\t41113\n",
      "----\n",
      "Total rows Entries in goal scorer :\t\t\t556\n",
      "Matches data present in shootouts for data in results :\t555\n"
     ]
    }
   ],
   "source": [
    "total_matches = id_results_df.shape[0]\n",
    "\n",
    "res_in_gs_df = id_goal_scorer_df[id_goal_scorer_df.ID.isin(id_results_df.ID)].shape[0]\n",
    "res_in_so_df = id_shootouts_df[id_shootouts_df.ID.isin(id_results_df.ID)].shape[0]\n",
    "print(f'Total matches data present in results :\\t\\t\\t{total_matches}')\n",
    "print('----')\n",
    "print(f'Total rows Entries in goal scorer :\\t\\t\\t{id_goal_scorer_df.shape[0]}')\n",
    "print(f'Matches data present in goalscorer for data in results:\\t{res_in_gs_df}')\n",
    "print('----')\n",
    "print(f'Total rows Entries in goal scorer :\\t\\t\\t{id_shootouts_df.shape[0]}')\n",
    "print(f'Matches data present in shootouts for data in results :\\t{res_in_so_df}')"
   ]
  },
  {
   "cell_type": "markdown",
   "metadata": {},
   "source": [
    "### **Q** : Does *Results* table contain entries for every match in *goalscorer* and *shootout*  tables?"
   ]
  },
  {
   "cell_type": "markdown",
   "metadata": {},
   "source": [
    "*Ans* : We found total 13,692 matches whose data is available in goalscorer and shootouts tables.\n",
    "-   Results table contains 13,259 matches data whose data is present in goalscorer table.\n",
    "-   Results table contains 555 matches data whose data is present in shootouts table."
   ]
  },
  {
   "cell_type": "code",
   "execution_count": 35,
   "metadata": {},
   "outputs": [
    {
     "name": "stdout",
     "output_type": "stream",
     "text": [
      "e1: Total matches data avalible in results df table:\t\t 44762\n",
      "----\n",
      "e2: Total matches present in results table and goalscorer table: 13259\n",
      "e3: Total matches present in results table and shootout table:\t 555\n",
      "----\n",
      "e4: Common matches in goalscorer and shootout table:\t\t 122\n",
      "----\n",
      "Total valid matches in results table: (e2+e3-2*e4)\t\t 13692\n"
     ]
    }
   ],
   "source": [
    "total_matches = id_results_df.shape[0]\n",
    "\n",
    "gs_in_res_df = id_results_df[id_results_df.ID.isin(id_goal_scorer_df.ID)]\n",
    "so_in_res_df = id_results_df[id_results_df.ID.isin(id_shootouts_df.ID)]\n",
    "common_in_gs_so = gs_in_res_df[gs_in_res_df.ID.isin(so_in_res_df.ID)]\n",
    "\n",
    "match_data_available_for_gs_in_res = gs_in_res_df.shape[0]\n",
    "match_data_available_for_so_in_res = so_in_res_df.shape[0]\n",
    "count_common_in_gs_so = common_in_gs_so.shape[0]\n",
    "\n",
    "print(f'e1: Total matches data avalible in results df table:\\t\\t {total_matches}')\n",
    "print('----')\n",
    "print(f'e2: Total matches present in results table and goalscorer table: {match_data_available_for_gs_in_res}')\n",
    "print(f'e3: Total matches present in results table and shootout table:\\t {match_data_available_for_so_in_res}')\n",
    "print('----')\n",
    "print(f'e4: Common matches in goalscorer and shootout table:\\t\\t {count_common_in_gs_so}')\n",
    "print('----')\n",
    "total_valid_entries = match_data_available_for_gs_in_res + match_data_available_for_so_in_res - count_common_in_gs_so\n",
    "print(f'Total valid matches in results table: (e2+e3-2*e4)\\t\\t {total_valid_entries}')"
   ]
  },
  {
   "cell_type": "code",
   "execution_count": 66,
   "metadata": {},
   "outputs": [
    {
     "data": {
      "text/plain": [
       "0                              1916-07-02-Chile-Uruguay\n",
       "1                            1916-07-06-Argentina-Chile\n",
       "2                               1916-07-08-Brazil-Chile\n",
       "3                           1916-07-10-Argentina-Brazil\n",
       "4                             1916-07-12-Brazil-Uruguay\n",
       "                              ...                      \n",
       "13687                   2023-06-17-Suriname-Puerto Rico\n",
       "13688                          2023-06-18-Croatia-Spain\n",
       "13689    2023-06-20-Saint Kitts and Nevis-French Guiana\n",
       "13690                          2023-07-01-India-Lebanon\n",
       "13691                           2023-07-04-India-Kuwait\n",
       "Name: ID, Length: 13692, dtype: object"
      ]
     },
     "execution_count": 66,
     "metadata": {},
     "output_type": "execute_result"
    }
   ],
   "source": [
    "total_valid_entries_df = pd.merge(gs_in_res_df, so_in_res_df, on=\"ID\", how='outer').ID\n",
    "total_valid_entries_df"
   ]
  },
  {
   "cell_type": "markdown",
   "metadata": {},
   "source": [
    "#### **Q** : "
   ]
  },
  {
   "cell_type": "code",
   "execution_count": 58,
   "metadata": {},
   "outputs": [
    {
     "data": {
      "text/html": [
       "<div>\n",
       "<style scoped>\n",
       "    .dataframe tbody tr th:only-of-type {\n",
       "        vertical-align: middle;\n",
       "    }\n",
       "\n",
       "    .dataframe tbody tr th {\n",
       "        vertical-align: top;\n",
       "    }\n",
       "\n",
       "    .dataframe thead th {\n",
       "        text-align: right;\n",
       "    }\n",
       "</style>\n",
       "<table border=\"1\" class=\"dataframe\">\n",
       "  <thead>\n",
       "    <tr style=\"text-align: right;\">\n",
       "      <th></th>\n",
       "      <th>date</th>\n",
       "      <th>home_team</th>\n",
       "      <th>away_team</th>\n",
       "      <th>home_score</th>\n",
       "      <th>away_score</th>\n",
       "      <th>tournament</th>\n",
       "      <th>city</th>\n",
       "      <th>country</th>\n",
       "      <th>neutral</th>\n",
       "      <th>ID</th>\n",
       "    </tr>\n",
       "  </thead>\n",
       "  <tbody>\n",
       "    <tr>\n",
       "      <th>0</th>\n",
       "      <td>1872-11-30</td>\n",
       "      <td>Scotland</td>\n",
       "      <td>England</td>\n",
       "      <td>0</td>\n",
       "      <td>0</td>\n",
       "      <td>Friendly</td>\n",
       "      <td>Glasgow</td>\n",
       "      <td>Scotland</td>\n",
       "      <td>False</td>\n",
       "      <td>1872-11-30-Scotland-England</td>\n",
       "    </tr>\n",
       "    <tr>\n",
       "      <th>1</th>\n",
       "      <td>1873-03-08</td>\n",
       "      <td>England</td>\n",
       "      <td>Scotland</td>\n",
       "      <td>4</td>\n",
       "      <td>2</td>\n",
       "      <td>Friendly</td>\n",
       "      <td>London</td>\n",
       "      <td>England</td>\n",
       "      <td>False</td>\n",
       "      <td>1873-03-08-England-Scotland</td>\n",
       "    </tr>\n",
       "    <tr>\n",
       "      <th>2</th>\n",
       "      <td>1874-03-07</td>\n",
       "      <td>Scotland</td>\n",
       "      <td>England</td>\n",
       "      <td>2</td>\n",
       "      <td>1</td>\n",
       "      <td>Friendly</td>\n",
       "      <td>Glasgow</td>\n",
       "      <td>Scotland</td>\n",
       "      <td>False</td>\n",
       "      <td>1874-03-07-Scotland-England</td>\n",
       "    </tr>\n",
       "    <tr>\n",
       "      <th>3</th>\n",
       "      <td>1875-03-06</td>\n",
       "      <td>England</td>\n",
       "      <td>Scotland</td>\n",
       "      <td>2</td>\n",
       "      <td>2</td>\n",
       "      <td>Friendly</td>\n",
       "      <td>London</td>\n",
       "      <td>England</td>\n",
       "      <td>False</td>\n",
       "      <td>1875-03-06-England-Scotland</td>\n",
       "    </tr>\n",
       "    <tr>\n",
       "      <th>4</th>\n",
       "      <td>1876-03-04</td>\n",
       "      <td>Scotland</td>\n",
       "      <td>England</td>\n",
       "      <td>3</td>\n",
       "      <td>0</td>\n",
       "      <td>Friendly</td>\n",
       "      <td>Glasgow</td>\n",
       "      <td>Scotland</td>\n",
       "      <td>False</td>\n",
       "      <td>1876-03-04-Scotland-England</td>\n",
       "    </tr>\n",
       "    <tr>\n",
       "      <th>...</th>\n",
       "      <td>...</td>\n",
       "      <td>...</td>\n",
       "      <td>...</td>\n",
       "      <td>...</td>\n",
       "      <td>...</td>\n",
       "      <td>...</td>\n",
       "      <td>...</td>\n",
       "      <td>...</td>\n",
       "      <td>...</td>\n",
       "      <td>...</td>\n",
       "    </tr>\n",
       "    <tr>\n",
       "      <th>44755</th>\n",
       "      <td>2023-07-08</td>\n",
       "      <td>Mexico</td>\n",
       "      <td>Costa Rica</td>\n",
       "      <td>2</td>\n",
       "      <td>0</td>\n",
       "      <td>Gold Cup</td>\n",
       "      <td>Arlington</td>\n",
       "      <td>United States</td>\n",
       "      <td>True</td>\n",
       "      <td>2023-07-08-Mexico-Costa Rica</td>\n",
       "    </tr>\n",
       "    <tr>\n",
       "      <th>44756</th>\n",
       "      <td>2023-07-09</td>\n",
       "      <td>Guatemala</td>\n",
       "      <td>Jamaica</td>\n",
       "      <td>0</td>\n",
       "      <td>1</td>\n",
       "      <td>Gold Cup</td>\n",
       "      <td>Cincinnati</td>\n",
       "      <td>United States</td>\n",
       "      <td>True</td>\n",
       "      <td>2023-07-09-Guatemala-Jamaica</td>\n",
       "    </tr>\n",
       "    <tr>\n",
       "      <th>44759</th>\n",
       "      <td>2023-07-12</td>\n",
       "      <td>Jamaica</td>\n",
       "      <td>Mexico</td>\n",
       "      <td>0</td>\n",
       "      <td>3</td>\n",
       "      <td>Gold Cup</td>\n",
       "      <td>Paradise</td>\n",
       "      <td>United States</td>\n",
       "      <td>True</td>\n",
       "      <td>2023-07-12-Jamaica-Mexico</td>\n",
       "    </tr>\n",
       "    <tr>\n",
       "      <th>44760</th>\n",
       "      <td>2023-07-16</td>\n",
       "      <td>Kernow</td>\n",
       "      <td>Sápmi</td>\n",
       "      <td>2</td>\n",
       "      <td>1</td>\n",
       "      <td>CONIFA World Football Cup qualification</td>\n",
       "      <td>Falmouth</td>\n",
       "      <td>England</td>\n",
       "      <td>False</td>\n",
       "      <td>2023-07-16-Kernow-Sápmi</td>\n",
       "    </tr>\n",
       "    <tr>\n",
       "      <th>44761</th>\n",
       "      <td>2023-07-16</td>\n",
       "      <td>Mexico</td>\n",
       "      <td>Panama</td>\n",
       "      <td>1</td>\n",
       "      <td>0</td>\n",
       "      <td>Gold Cup</td>\n",
       "      <td>Inglewood</td>\n",
       "      <td>United States</td>\n",
       "      <td>True</td>\n",
       "      <td>2023-07-16-Mexico-Panama</td>\n",
       "    </tr>\n",
       "  </tbody>\n",
       "</table>\n",
       "<p>44207 rows × 10 columns</p>\n",
       "</div>"
      ],
      "text/plain": [
       "             date  home_team   away_team  home_score  away_score  \\\n",
       "0      1872-11-30   Scotland     England           0           0   \n",
       "1      1873-03-08    England    Scotland           4           2   \n",
       "2      1874-03-07   Scotland     England           2           1   \n",
       "3      1875-03-06    England    Scotland           2           2   \n",
       "4      1876-03-04   Scotland     England           3           0   \n",
       "...           ...        ...         ...         ...         ...   \n",
       "44755  2023-07-08     Mexico  Costa Rica           2           0   \n",
       "44756  2023-07-09  Guatemala     Jamaica           0           1   \n",
       "44759  2023-07-12    Jamaica      Mexico           0           3   \n",
       "44760  2023-07-16     Kernow       Sápmi           2           1   \n",
       "44761  2023-07-16     Mexico      Panama           1           0   \n",
       "\n",
       "                                    tournament        city        country  \\\n",
       "0                                     Friendly     Glasgow       Scotland   \n",
       "1                                     Friendly      London        England   \n",
       "2                                     Friendly     Glasgow       Scotland   \n",
       "3                                     Friendly      London        England   \n",
       "4                                     Friendly     Glasgow       Scotland   \n",
       "...                                        ...         ...            ...   \n",
       "44755                                 Gold Cup   Arlington  United States   \n",
       "44756                                 Gold Cup  Cincinnati  United States   \n",
       "44759                                 Gold Cup    Paradise  United States   \n",
       "44760  CONIFA World Football Cup qualification    Falmouth        England   \n",
       "44761                                 Gold Cup   Inglewood  United States   \n",
       "\n",
       "       neutral                            ID  \n",
       "0        False   1872-11-30-Scotland-England  \n",
       "1        False   1873-03-08-England-Scotland  \n",
       "2        False   1874-03-07-Scotland-England  \n",
       "3        False   1875-03-06-England-Scotland  \n",
       "4        False   1876-03-04-Scotland-England  \n",
       "...        ...                           ...  \n",
       "44755     True  2023-07-08-Mexico-Costa Rica  \n",
       "44756     True  2023-07-09-Guatemala-Jamaica  \n",
       "44759     True     2023-07-12-Jamaica-Mexico  \n",
       "44760    False       2023-07-16-Kernow-Sápmi  \n",
       "44761     True      2023-07-16-Mexico-Panama  \n",
       "\n",
       "[44207 rows x 10 columns]"
      ]
     },
     "execution_count": 58,
     "metadata": {},
     "output_type": "execute_result"
    }
   ],
   "source": [
    "entries_for_so_in_gs = id_results_df[id_results_df.home_score == id_results_df.away_score]\n",
    "id_results_df[~id_results_df.ID.isin(id_shootouts_df.ID)]"
   ]
  },
  {
   "cell_type": "markdown",
   "metadata": {},
   "source": [
    "# Match Analysis\n",
    "By Ahzam"
   ]
  },
  {
   "cell_type": "code",
   "execution_count": null,
   "metadata": {},
   "outputs": [],
   "source": []
  },
  {
   "cell_type": "code",
   "execution_count": 15,
   "metadata": {},
   "outputs": [
    {
     "ename": "NameError",
     "evalue": "name 'gs_res_df' is not defined",
     "output_type": "error",
     "traceback": [
      "\u001b[1;31m---------------------------------------------------------------------------\u001b[0m",
      "\u001b[1;31mNameError\u001b[0m                                 Traceback (most recent call last)",
      "Cell \u001b[1;32mIn[15], line 1\u001b[0m\n\u001b[1;32m----> 1\u001b[0m gs_res_df \u001b[39m=\u001b[39m gs_res_df\u001b[39m.\u001b[39mreset_index()\n\u001b[0;32m      2\u001b[0m sr_res_df \u001b[39m=\u001b[39m sr_res_df\u001b[39m.\u001b[39mreset_index()\n\u001b[0;32m      3\u001b[0m gr_res_df \u001b[39m=\u001b[39m gr_res_df\u001b[39m.\u001b[39mreset_index()\n",
      "\u001b[1;31mNameError\u001b[0m: name 'gs_res_df' is not defined"
     ]
    }
   ],
   "source": [
    "gs_res_df = gs_res_df.reset_index()\n",
    "sr_res_df = sr_res_df.reset_index()\n",
    "gr_res_df = gr_res_df.reset_index()\n",
    "results_df.shape[0] - gr_res_df.shape[0]"
   ]
  },
  {
   "cell_type": "code",
   "execution_count": null,
   "metadata": {},
   "outputs": [
    {
     "data": {
      "text/html": [
       "<div>\n",
       "<style scoped>\n",
       "    .dataframe tbody tr th:only-of-type {\n",
       "        vertical-align: middle;\n",
       "    }\n",
       "\n",
       "    .dataframe tbody tr th {\n",
       "        vertical-align: top;\n",
       "    }\n",
       "\n",
       "    .dataframe thead th {\n",
       "        text-align: right;\n",
       "    }\n",
       "</style>\n",
       "<table border=\"1\" class=\"dataframe\">\n",
       "  <thead>\n",
       "    <tr style=\"text-align: right;\">\n",
       "      <th></th>\n",
       "      <th>date</th>\n",
       "      <th>home_team</th>\n",
       "      <th>away_team</th>\n",
       "      <th>home_score</th>\n",
       "      <th>away_score</th>\n",
       "      <th>tournament</th>\n",
       "      <th>city</th>\n",
       "      <th>country</th>\n",
       "      <th>neutral</th>\n",
       "      <th>ID</th>\n",
       "    </tr>\n",
       "  </thead>\n",
       "  <tbody>\n",
       "    <tr>\n",
       "      <th>438</th>\n",
       "      <td>1916-07-02</td>\n",
       "      <td>Chile</td>\n",
       "      <td>Uruguay</td>\n",
       "      <td>0</td>\n",
       "      <td>4</td>\n",
       "      <td>Copa América</td>\n",
       "      <td>Buenos Aires</td>\n",
       "      <td>Argentina</td>\n",
       "      <td>True</td>\n",
       "      <td>1916-07-02-Chile-Uruguay</td>\n",
       "    </tr>\n",
       "    <tr>\n",
       "      <th>440</th>\n",
       "      <td>1916-07-06</td>\n",
       "      <td>Argentina</td>\n",
       "      <td>Chile</td>\n",
       "      <td>6</td>\n",
       "      <td>1</td>\n",
       "      <td>Copa América</td>\n",
       "      <td>Buenos Aires</td>\n",
       "      <td>Argentina</td>\n",
       "      <td>False</td>\n",
       "      <td>1916-07-06-Argentina-Chile</td>\n",
       "    </tr>\n",
       "    <tr>\n",
       "      <th>441</th>\n",
       "      <td>1916-07-08</td>\n",
       "      <td>Brazil</td>\n",
       "      <td>Chile</td>\n",
       "      <td>1</td>\n",
       "      <td>1</td>\n",
       "      <td>Copa América</td>\n",
       "      <td>Buenos Aires</td>\n",
       "      <td>Argentina</td>\n",
       "      <td>True</td>\n",
       "      <td>1916-07-08-Brazil-Chile</td>\n",
       "    </tr>\n",
       "    <tr>\n",
       "      <th>442</th>\n",
       "      <td>1916-07-10</td>\n",
       "      <td>Argentina</td>\n",
       "      <td>Brazil</td>\n",
       "      <td>1</td>\n",
       "      <td>1</td>\n",
       "      <td>Copa América</td>\n",
       "      <td>Buenos Aires</td>\n",
       "      <td>Argentina</td>\n",
       "      <td>False</td>\n",
       "      <td>1916-07-10-Argentina-Brazil</td>\n",
       "    </tr>\n",
       "    <tr>\n",
       "      <th>444</th>\n",
       "      <td>1916-07-12</td>\n",
       "      <td>Brazil</td>\n",
       "      <td>Uruguay</td>\n",
       "      <td>1</td>\n",
       "      <td>2</td>\n",
       "      <td>Copa América</td>\n",
       "      <td>Buenos Aires</td>\n",
       "      <td>Argentina</td>\n",
       "      <td>True</td>\n",
       "      <td>1916-07-12-Brazil-Uruguay</td>\n",
       "    </tr>\n",
       "    <tr>\n",
       "      <th>...</th>\n",
       "      <td>...</td>\n",
       "      <td>...</td>\n",
       "      <td>...</td>\n",
       "      <td>...</td>\n",
       "      <td>...</td>\n",
       "      <td>...</td>\n",
       "      <td>...</td>\n",
       "      <td>...</td>\n",
       "      <td>...</td>\n",
       "      <td>...</td>\n",
       "    </tr>\n",
       "    <tr>\n",
       "      <th>44754</th>\n",
       "      <td>2023-07-08</td>\n",
       "      <td>Panama</td>\n",
       "      <td>Qatar</td>\n",
       "      <td>4</td>\n",
       "      <td>0</td>\n",
       "      <td>Gold Cup</td>\n",
       "      <td>Arlington</td>\n",
       "      <td>United States</td>\n",
       "      <td>True</td>\n",
       "      <td>2023-07-08-Panama-Qatar</td>\n",
       "    </tr>\n",
       "    <tr>\n",
       "      <th>44755</th>\n",
       "      <td>2023-07-08</td>\n",
       "      <td>Mexico</td>\n",
       "      <td>Costa Rica</td>\n",
       "      <td>2</td>\n",
       "      <td>0</td>\n",
       "      <td>Gold Cup</td>\n",
       "      <td>Arlington</td>\n",
       "      <td>United States</td>\n",
       "      <td>True</td>\n",
       "      <td>2023-07-08-Mexico-Costa Rica</td>\n",
       "    </tr>\n",
       "    <tr>\n",
       "      <th>44756</th>\n",
       "      <td>2023-07-09</td>\n",
       "      <td>Guatemala</td>\n",
       "      <td>Jamaica</td>\n",
       "      <td>0</td>\n",
       "      <td>1</td>\n",
       "      <td>Gold Cup</td>\n",
       "      <td>Cincinnati</td>\n",
       "      <td>United States</td>\n",
       "      <td>True</td>\n",
       "      <td>2023-07-09-Guatemala-Jamaica</td>\n",
       "    </tr>\n",
       "    <tr>\n",
       "      <th>44759</th>\n",
       "      <td>2023-07-12</td>\n",
       "      <td>Jamaica</td>\n",
       "      <td>Mexico</td>\n",
       "      <td>0</td>\n",
       "      <td>3</td>\n",
       "      <td>Gold Cup</td>\n",
       "      <td>Paradise</td>\n",
       "      <td>United States</td>\n",
       "      <td>True</td>\n",
       "      <td>2023-07-12-Jamaica-Mexico</td>\n",
       "    </tr>\n",
       "    <tr>\n",
       "      <th>44761</th>\n",
       "      <td>2023-07-16</td>\n",
       "      <td>Mexico</td>\n",
       "      <td>Panama</td>\n",
       "      <td>1</td>\n",
       "      <td>0</td>\n",
       "      <td>Gold Cup</td>\n",
       "      <td>Inglewood</td>\n",
       "      <td>United States</td>\n",
       "      <td>True</td>\n",
       "      <td>2023-07-16-Mexico-Panama</td>\n",
       "    </tr>\n",
       "  </tbody>\n",
       "</table>\n",
       "<p>13137 rows × 10 columns</p>\n",
       "</div>"
      ],
      "text/plain": [
       "             date  home_team   away_team  home_score  away_score  \\\n",
       "438    1916-07-02      Chile     Uruguay           0           4   \n",
       "440    1916-07-06  Argentina       Chile           6           1   \n",
       "441    1916-07-08     Brazil       Chile           1           1   \n",
       "442    1916-07-10  Argentina      Brazil           1           1   \n",
       "444    1916-07-12     Brazil     Uruguay           1           2   \n",
       "...           ...        ...         ...         ...         ...   \n",
       "44754  2023-07-08     Panama       Qatar           4           0   \n",
       "44755  2023-07-08     Mexico  Costa Rica           2           0   \n",
       "44756  2023-07-09  Guatemala     Jamaica           0           1   \n",
       "44759  2023-07-12    Jamaica      Mexico           0           3   \n",
       "44761  2023-07-16     Mexico      Panama           1           0   \n",
       "\n",
       "         tournament          city        country  neutral  \\\n",
       "438    Copa América  Buenos Aires      Argentina     True   \n",
       "440    Copa América  Buenos Aires      Argentina    False   \n",
       "441    Copa América  Buenos Aires      Argentina     True   \n",
       "442    Copa América  Buenos Aires      Argentina    False   \n",
       "444    Copa América  Buenos Aires      Argentina     True   \n",
       "...             ...           ...            ...      ...   \n",
       "44754      Gold Cup     Arlington  United States     True   \n",
       "44755      Gold Cup     Arlington  United States     True   \n",
       "44756      Gold Cup    Cincinnati  United States     True   \n",
       "44759      Gold Cup      Paradise  United States     True   \n",
       "44761      Gold Cup     Inglewood  United States     True   \n",
       "\n",
       "                                 ID  \n",
       "438        1916-07-02-Chile-Uruguay  \n",
       "440      1916-07-06-Argentina-Chile  \n",
       "441         1916-07-08-Brazil-Chile  \n",
       "442     1916-07-10-Argentina-Brazil  \n",
       "444       1916-07-12-Brazil-Uruguay  \n",
       "...                             ...  \n",
       "44754       2023-07-08-Panama-Qatar  \n",
       "44755  2023-07-08-Mexico-Costa Rica  \n",
       "44756  2023-07-09-Guatemala-Jamaica  \n",
       "44759     2023-07-12-Jamaica-Mexico  \n",
       "44761      2023-07-16-Mexico-Panama  \n",
       "\n",
       "[13137 rows x 10 columns]"
      ]
     },
     "execution_count": 50,
     "metadata": {},
     "output_type": "execute_result"
    }
   ],
   "source": [
    "cleaned_id_results_by_gs_df = id_results_df[id_results_df.ID.isin(id_goal_scorer_df.ID)]\n",
    "cleaned_id_results_by_so_df = id_results_df[id_results_df.ID.isin(id_shootouts_df.ID)]\n",
    "\n",
    "uncommon_in_so_df = id_shootouts_df[~id_shootouts_df.ID.isin(id_goal_scorer_df.ID)]\n",
    "uncommon_in_so_df = id_results_df[id_results_df.ID.isin(uncommon_in_so_df.ID)]\n",
    "\n",
    "uncommon_in_gs_df = id_goal_scorer_df[~id_goal_scorer_df.ID.isin(id_shootouts_df.ID)]\n",
    "uncommon_in_gs_df = id_results_df[id_results_df.ID.isin(uncommon_in_gs_df.ID)]\n",
    "\n",
    "uncommon_in_gs_df"
   ]
  },
  {
   "cell_type": "code",
   "execution_count": null,
   "metadata": {},
   "outputs": [
    {
     "data": {
      "text/html": [
       "<div>\n",
       "<style scoped>\n",
       "    .dataframe tbody tr th:only-of-type {\n",
       "        vertical-align: middle;\n",
       "    }\n",
       "\n",
       "    .dataframe tbody tr th {\n",
       "        vertical-align: top;\n",
       "    }\n",
       "\n",
       "    .dataframe thead th {\n",
       "        text-align: right;\n",
       "    }\n",
       "</style>\n",
       "<table border=\"1\" class=\"dataframe\">\n",
       "  <thead>\n",
       "    <tr style=\"text-align: right;\">\n",
       "      <th></th>\n",
       "      <th>date</th>\n",
       "      <th>home_team</th>\n",
       "      <th>away_team</th>\n",
       "      <th>team</th>\n",
       "      <th>scorer</th>\n",
       "      <th>minute</th>\n",
       "      <th>own_goal</th>\n",
       "      <th>penalty</th>\n",
       "      <th>ID</th>\n",
       "    </tr>\n",
       "  </thead>\n",
       "  <tbody>\n",
       "  </tbody>\n",
       "</table>\n",
       "</div>"
      ],
      "text/plain": [
       "Empty DataFrame\n",
       "Columns: [date, home_team, away_team, team, scorer, minute, own_goal, penalty, ID]\n",
       "Index: []"
      ]
     },
     "execution_count": 41,
     "metadata": {},
     "output_type": "execute_result"
    }
   ],
   "source": [
    "shootouts_df[shootouts_df.date == '1967-08-22']\n",
    "goal_scorer_df[goal_scorer_df.date == '1967-08-22']"
   ]
  }
 ],
 "metadata": {
  "kernelspec": {
   "display_name": "Python 3",
   "language": "python",
   "name": "python3"
  },
  "language_info": {
   "codemirror_mode": {
    "name": "ipython",
    "version": 3
   },
   "file_extension": ".py",
   "mimetype": "text/x-python",
   "name": "python",
   "nbconvert_exporter": "python",
   "pygments_lexer": "ipython3",
   "version": "3.11.4"
  },
  "orig_nbformat": 4
 },
 "nbformat": 4,
 "nbformat_minor": 2
}
