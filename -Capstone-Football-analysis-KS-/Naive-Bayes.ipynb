{
 "cells": [
  {
   "cell_type": "code",
   "execution_count": 720,
   "metadata": {},
   "outputs": [],
   "source": [
    "import pandas as pd\n",
    "import numpy as np"
   ]
  },
  {
   "cell_type": "markdown",
   "metadata": {},
   "source": [
    "Importing the results dataset and shootout dataset"
   ]
  },
  {
   "cell_type": "code",
   "execution_count": 721,
   "metadata": {},
   "outputs": [],
   "source": [
    "df_results = pd.read_csv('./Data/results.csv')\n",
    "df_shooutouts = pd.read_csv('./Data/shootouts.csv')"
   ]
  },
  {
   "cell_type": "markdown",
   "metadata": {},
   "source": [
    "Generating ID for individual row in the imported dataset\n",
    "By combining date, home_team and away_tesm"
   ]
  },
  {
   "cell_type": "code",
   "execution_count": 722,
   "metadata": {},
   "outputs": [],
   "source": [
    "def make_id(df:pd.DataFrame):\n",
    "    df['ID'] = df.date+ '-' + df.home_team+ '-' + df.away_team\n",
    "    return df\n",
    "id_results_df = make_id(df_results)\n",
    "id_shootouts_df = make_id(df_shooutouts)"
   ]
  },
  {
   "cell_type": "markdown",
   "metadata": {},
   "source": [
    "Adding to the score of home team or away team based upon the wins in shootouts."
   ]
  },
  {
   "cell_type": "code",
   "execution_count": 723,
   "metadata": {},
   "outputs": [
    {
     "name": "stdout",
     "output_type": "stream",
     "text": [
      "(555, 5)\n",
      "Adding to results score from shooutouts.\n",
      "...........................................................................................................................................................................................................................................................................................................................................................................................................................................................................................................................................................................\n",
      "Done\n"
     ]
    }
   ],
   "source": [
    "s_out_id = list(df_shooutouts.ID)\n",
    "s_out_id = list(df_results[df_results.ID.isin(s_out_id)].ID)\n",
    "\n",
    "df_shooutouts = df_shooutouts[df_shooutouts.ID.isin(s_out_id)]\n",
    "print(df_shooutouts.shape)\n",
    "print('Adding to results score from shooutouts.')\n",
    "for id in s_out_id:\n",
    "    entry = df_results[df_results.ID == id]\n",
    "    current_sho_winner = id_shootouts_df[id_shootouts_df.ID == id].winner.values[0]    \n",
    "    home_team = entry.home_team.values[0]\n",
    "    away_team = entry.away_team.values[0]\n",
    "    if (current_sho_winner == home_team):\n",
    "        chs = df_results[df_results.ID == id].home_score\n",
    "        df_results.loc[df_results.ID == id, 'home_score']= chs.values[0]+ 1\n",
    "    elif (current_sho_winner == away_team):\n",
    "        cas = df_results[df_results.ID == id].away_score\n",
    "        df_results.loc[df_results.ID == id, 'away_score']= cas.values[0]+ 1\n",
    "    print('.', end='')\n",
    "print('\\nDone')\n",
    "    "
   ]
  },
  {
   "cell_type": "markdown",
   "metadata": {},
   "source": [
    "Creating a new column called winner in results dataset.\n",
    "\n",
    " Assigning following labels to a new column called winner:\n",
    "\n",
    "**[tie, home, away]**\n"
   ]
  },
  {
   "cell_type": "code",
   "execution_count": 724,
   "metadata": {},
   "outputs": [],
   "source": [
    "def winner_col(home_entry, away_entry):\n",
    "    # print(home_entry, ':',away_entry)\n",
    "    if (home_entry == away_entry):\n",
    "        return 'tie'\n",
    "    elif (home_entry > away_entry):\n",
    "        return 'home'\n",
    "    else:\n",
    "        return 'away'\n",
    "# df_results.apply(lambda entry: winner_col(entry['home_score'], entry['away_score']), axis=1)    \n",
    "df_results['winner'] = df_results.apply(lambda entry: winner_col(entry['home_score'], entry['away_score']), axis=1)"
   ]
  },
  {
   "cell_type": "markdown",
   "metadata": {},
   "source": [
    "Discarding extra columns in the dataset."
   ]
  },
  {
   "cell_type": "code",
   "execution_count": 725,
   "metadata": {},
   "outputs": [],
   "source": [
    "ready_df = df_results.drop(['ID', 'date', 'home_score', 'away_score'], axis=1)"
   ]
  },
  {
   "cell_type": "markdown",
   "metadata": {},
   "source": [
    "Dividing the dataset into training and testing sets"
   ]
  },
  {
   "cell_type": "code",
   "execution_count": 726,
   "metadata": {},
   "outputs": [],
   "source": [
    "per = int(44761*0.8)\n",
    "\n",
    "train_set = ready_df.iloc[:per, :]\n",
    "test_set = ready_df.iloc[per:, :]"
   ]
  },
  {
   "cell_type": "markdown",
   "metadata": {},
   "source": [
    "Convert ready_df from dtype Dataframe to nparray"
   ]
  },
  {
   "cell_type": "code",
   "execution_count": 727,
   "metadata": {},
   "outputs": [
    {
     "data": {
      "text/plain": [
       "(44762, 7)"
      ]
     },
     "execution_count": 727,
     "metadata": {},
     "output_type": "execute_result"
    }
   ],
   "source": [
    "import numpy as np\n",
    "dataset = np.asarray(ready_df)\n",
    "dataset.shape"
   ]
  },
  {
   "cell_type": "code",
   "execution_count": 728,
   "metadata": {},
   "outputs": [],
   "source": [
    "from sklearn.naive_bayes import GaussianNB\n",
    "from sklearn.preprocessing import MinMaxScaler, LabelEncoder"
   ]
  },
  {
   "cell_type": "code",
   "execution_count": 729,
   "metadata": {},
   "outputs": [
    {
     "data": {
      "text/html": [
       "<div>\n",
       "<style scoped>\n",
       "    .dataframe tbody tr th:only-of-type {\n",
       "        vertical-align: middle;\n",
       "    }\n",
       "\n",
       "    .dataframe tbody tr th {\n",
       "        vertical-align: top;\n",
       "    }\n",
       "\n",
       "    .dataframe thead th {\n",
       "        text-align: right;\n",
       "    }\n",
       "</style>\n",
       "<table border=\"1\" class=\"dataframe\">\n",
       "  <thead>\n",
       "    <tr style=\"text-align: right;\">\n",
       "      <th></th>\n",
       "      <th>home_team</th>\n",
       "      <th>away_team</th>\n",
       "      <th>tournament</th>\n",
       "      <th>city</th>\n",
       "      <th>country</th>\n",
       "      <th>neutral</th>\n",
       "      <th>winner</th>\n",
       "    </tr>\n",
       "  </thead>\n",
       "  <tbody>\n",
       "    <tr>\n",
       "      <th>0</th>\n",
       "      <td>Scotland</td>\n",
       "      <td>England</td>\n",
       "      <td>Friendly</td>\n",
       "      <td>Glasgow</td>\n",
       "      <td>Scotland</td>\n",
       "      <td>False</td>\n",
       "      <td>tie</td>\n",
       "    </tr>\n",
       "  </tbody>\n",
       "</table>\n",
       "</div>"
      ],
      "text/plain": [
       "  home_team away_team tournament     city   country  neutral winner\n",
       "0  Scotland   England   Friendly  Glasgow  Scotland    False    tie"
      ]
     },
     "execution_count": 729,
     "metadata": {},
     "output_type": "execute_result"
    }
   ],
   "source": [
    "ready_df.head(1)"
   ]
  },
  {
   "cell_type": "code",
   "execution_count": 730,
   "metadata": {},
   "outputs": [],
   "source": [
    "encoder_lst = []\n",
    "# dataset.iloc[:, 4] = encoder.fit_transform(dataset.iloc[:, 4])\n",
    "for column in range(dataset.shape[1]):\n",
    "    encoder_lst.append(LabelEncoder())\n",
    "    dataset[:, column] = encoder_lst[column].fit_transform(dataset[:, column])\n",
    "dataset = dataset.astype('int32')"
   ]
  },
  {
   "cell_type": "code",
   "execution_count": 731,
   "metadata": {},
   "outputs": [],
   "source": [
    "scalar = MinMaxScaler(feature_range=(1,2))\n",
    "dataset = scalar.fit_transform(dataset)\n"
   ]
  },
  {
   "cell_type": "code",
   "execution_count": 732,
   "metadata": {},
   "outputs": [],
   "source": [
    "X = dataset[:, :6]\n",
    "y = dataset[:, 6]\n",
    "y = y.astype('int')\n"
   ]
  },
  {
   "cell_type": "code",
   "execution_count": 733,
   "metadata": {},
   "outputs": [
    {
     "name": "stdout",
     "output_type": "stream",
     "text": [
      "[2 1 1 ... 1 1 1]\n",
      "<class 'numpy.int32'>\n"
     ]
    }
   ],
   "source": [
    "from sklearn.model_selection import train_test_split\n",
    "\n",
    "X_train, X_test, y_train, y_test = train_test_split(\n",
    "    X, y, test_size=0.2, random_state=42   \n",
    ")\n",
    "\n",
    "print(y_train.astype('int'))\n",
    "print(type(y_test[0]))"
   ]
  },
  {
   "cell_type": "code",
   "execution_count": 734,
   "metadata": {},
   "outputs": [
    {
     "name": "stdout",
     "output_type": "stream",
     "text": [
      "Fitting Done\n"
     ]
    }
   ],
   "source": [
    "from sklearn.naive_bayes import GaussianNB\n",
    "\n",
    "# Build a Gaussian Classifier\n",
    "model = GaussianNB()\n",
    "\n",
    "# Model training\n",
    "model.fit(X_train, y_train)\n",
    "\n",
    "print('Fitting Done')"
   ]
  },
  {
   "cell_type": "code",
   "execution_count": 735,
   "metadata": {},
   "outputs": [
    {
     "name": "stdout",
     "output_type": "stream",
     "text": [
      "Actual Value: 1\n",
      "Predicted Value: 1\n"
     ]
    }
   ],
   "source": [
    "row_num = int(input('Input the row number:'))\n",
    "# Predict Output\n",
    "predicted = model.predict([X_test[row_num]])\n",
    "\n",
    "print(\"Actual Value:\", y_test[row_num])\n",
    "print(\"Predicted Value:\", predicted[0])"
   ]
  },
  {
   "cell_type": "code",
   "execution_count": 736,
   "metadata": {},
   "outputs": [],
   "source": [
    "# encoder_lst[0].inverse_transform(dataset[:, 0])"
   ]
  },
  {
   "cell_type": "code",
   "execution_count": 737,
   "metadata": {},
   "outputs": [
    {
     "name": "stdout",
     "output_type": "stream",
     "text": [
      "Accuracy: 0.7785099966491679\n",
      "F1 Score: 0.875463166488727\n"
     ]
    }
   ],
   "source": [
    "from sklearn.metrics import (\n",
    "    accuracy_score,\n",
    "    confusion_matrix,\n",
    "    ConfusionMatrixDisplay,\n",
    "    f1_score,\n",
    ")\n",
    "\n",
    "y_pred = model.predict(X_test)\n",
    "accuray = accuracy_score(y_pred, y_test)\n",
    "f1 = f1_score(y_pred, y_test, average=\"weighted\")\n",
    "\n",
    "print(\"Accuracy:\", accuray)\n",
    "print(\"F1 Score:\", f1)"
   ]
  },
  {
   "cell_type": "code",
   "execution_count": 738,
   "metadata": {},
   "outputs": [
    {
     "data": {
      "image/png": "[encoded data removed]",
      "text/plain": [
       "<Figure size 640x480 with 2 Axes>"
      ]
     },
     "metadata": {},
     "output_type": "display_data"
    }
   ],
   "source": [
    "labels = [0,1,2]\n",
    "cm = confusion_matrix(y_test, y_pred, labels=labels)\n",
    "disp = ConfusionMatrixDisplay(confusion_matrix=cm, display_labels=labels)\n",
    "disp.plot();"
   ]
  },
  {
   "cell_type": "code",
   "execution_count": null,
   "metadata": {},
   "outputs": [],
   "source": []
  }
 ],
 "metadata": {
  "kernelspec": {
   "display_name": "Python 3",
   "language": "python",
   "name": "python3"
  },
  "language_info": {
   "codemirror_mode": {
    "name": "ipython",
    "version": 3
   },
   "file_extension": ".py",
   "mimetype": "text/x-python",
   "name": "python",
   "nbconvert_exporter": "python",
   "pygments_lexer": "ipython3",
   "version": "3.11.4"
  },
  "orig_nbformat": 4
 },
 "nbformat": 4,
 "nbformat_minor": 2
}
